{
  "nbformat": 4,
  "nbformat_minor": 0,
  "metadata": {
    "colab": {
      "provenance": [],
      "authorship_tag": "ABX9TyMZ4FAB4N4Ldr2pAgdN9UD7",
      "include_colab_link": true
    },
    "kernelspec": {
      "name": "python3",
      "display_name": "Python 3"
    },
    "language_info": {
      "name": "python"
    }
  },
  "cells": [
    {
      "cell_type": "markdown",
      "metadata": {
        "id": "view-in-github",
        "colab_type": "text"
      },
      "source": [
        "<a href=\"https://colab.research.google.com/github/Strawberry-Ann/first-project/blob/main/Copy_of_Untitled1.ipynb\" target=\"_parent\"><img src=\"https://colab.research.google.com/assets/colab-badge.svg\" alt=\"Open In Colab\"/></a>"
      ]
    },
    {
      "cell_type": "code",
      "execution_count": null,
      "metadata": {
        "id": "N6wMBL5Qn_TH"
      },
      "outputs": [],
      "source": [
        "import numpy as np\n",
        "from scipy import stats"
      ]
    },
    {
      "cell_type": "code",
      "source": [
        "group1 = np.array([110, 115, 108, 112, 114, 109, 113, 107, 116, 106])\n",
        "group2 = np.array([130, 135, 132, 128, 133, 129, 134, 127, 136, 126])\n",
        "group3 = np.array([128, 130, 129, 131, 132, 127, 133, 126, 134, 125])\n",
        "# Проверка данных на нормальность методом Шапиро-Уилка\n",
        "stat1, p1 = stats.shapiro(group1)\n",
        "stat2, p2 = stats.shapiro(group1)\n",
        "stat3, p3 = stats.shapiro(group1)\n",
        "if (p1 > 0.05) and (p2 > 0.05) and (p3 > 0.05):\n",
        "  print(\"Все данные соответствуют нормальному распределению\")\n",
        "  # Сравнение анализов после лечения 1 и 2 препаратом по t-тесту Стьюдента\n",
        "  t_statS, p_valueS = stats.ttest_ind(group1, group2)\n",
        "  print(f\"t-статистика: {t_statS:.2f}, p-значение: {p_valueS:.6f}\")\n",
        "  # Сравнение анализов после лечения 1, 2 и 3 препаратом по тесту ANOVA\n",
        "  f_statA, p_valueA = stats.f_oneway(group1, group2, group3)\n",
        "  print(f\"f-статистика: {f_statA:.2f}, p-значение: {p_valueA:.6f}\")\n",
        "else:\n",
        "  print(\"Не все данные соответствуют нормальному распределению\")\n",
        "  # Сравнение анализов после лечения 1 и 2 препаратом по U-тесту Манна-Уитни\n",
        "  u_statM, p_valueM = stats.mannwhitneyu(group1, group2)\n",
        "  print(f\"u-статистика: {u_statM:.2f}, p-значение: {p_valueM:.6f}\")\n",
        "  # Сравнение анализов после лечения 1, 2 и 3 препаратом по тесту Краскела-Уоллиса\n",
        "  h_statK, p_valueK = stats.kruskal(group1, group2, group3)\n",
        "  print(f\"u-статистика: {h_statK:.2f}, p-значение: {p_valueK:.6f}\")"
      ],
      "metadata": {
        "colab": {
          "base_uri": "https://localhost:8080/"
        },
        "id": "dNyeO-hPoRye",
        "outputId": "0b02e360-fe26-4bda-899d-27ce4918d5e4"
      },
      "execution_count": null,
      "outputs": [
        {
          "output_type": "stream",
          "name": "stdout",
          "text": [
            "Все данные соответствуют нормальному распределению\n",
            "t-статистика: -12.79, p-значение: 0.000000\n",
            "f-статистика: 110.75, p-значение: 0.000000\n"
          ]
        }
      ]
    },
    {
      "cell_type": "code",
      "source": [],
      "metadata": {
        "id": "IdZtiO09pOJg"
      },
      "execution_count": null,
      "outputs": []
    }
  ]
}